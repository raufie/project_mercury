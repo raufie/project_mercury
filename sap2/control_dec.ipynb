{
 "cells": [
  {
   "cell_type": "code",
   "execution_count": 1,
   "metadata": {},
   "outputs": [],
   "source": [
    "import pandas as pd"
   ]
  },
  {
   "cell_type": "code",
   "execution_count": 2,
   "metadata": {},
   "outputs": [],
   "source": [
    "def decode(n: int, size=64):\n",
    "    s = [\"0\"] * size\n",
    "    s[size-n-1] = \"1\"\n",
    "    bit_string = \"\".join(s)\n",
    "    return hex(int(bit_string, 2))[2:].zfill(size // 4)"
   ]
  },
  {
   "cell_type": "code",
   "execution_count": 3,
   "metadata": {},
   "outputs": [],
   "source": [
    "f = open(\"control_code.txt\", 'r')\n",
    "stuff = f.read()\n",
    "pre_df = []\n",
    "for i,line in enumerate(stuff.split(\"\\n\")):\n",
    "    con = line.split(\":\")[0]\n",
    "    con_hex = decode(i)\n",
    "    con_desc = \"\".join(line.split(':')[1:])\n",
    "    pre_df.append({\n",
    "        \"con\": con,\n",
    "        \"con_hex\":con_hex,\n",
    "        \"con_desc\":con_desc\n",
    "    })\n",
    "df = pd.DataFrame(pre_df)"
   ]
  },
  {
   "cell_type": "code",
   "execution_count": 4,
   "metadata": {},
   "outputs": [],
   "source": [
    "def hex_or(hex1: str, hex2: str):\n",
    "    return hex(int(hex1, 16) | int(hex2, 16))[2:].zfill(len(hex1))"
   ]
  },
  {
   "cell_type": "code",
   "execution_count": 5,
   "metadata": {},
   "outputs": [],
   "source": [
    "def get_control_or(df,*args):\n",
    "    hex_fin = None\n",
    "    for arg in args:\n",
    "\n",
    "        out = df[df['con']==arg]['con_hex'].item()\n",
    "        if hex_fin is None:\n",
    "            hex_fin = out\n",
    "        else:\n",
    "            hex_fin = hex_or(hex_fin, out)\n",
    "    return hex_fin"
   ]
  },
  {
   "cell_type": "markdown",
   "metadata": {},
   "source": [
    "### FETCH CYCLE"
   ]
  },
  {
   "cell_type": "code",
   "execution_count": 6,
   "metadata": {},
   "outputs": [],
   "source": [
    "class ControlRom:\n",
    "    def __init__(self, addr_width=256, data_width=64, debug=True):\n",
    "        n_nibbles = data_width // 4\n",
    "        self.data = ['0' * n_nibbles] * addr_width\n",
    "        self.debug = debug\n",
    "    def __getitem__(self, index):\n",
    "        return bytes.fromhex(self.data[index])\n",
    "    \n",
    "    def __setitem__(self, index, value):\n",
    "        \"\"\"\n",
    "        index: hex integer i.e 0x0f\n",
    "        value: string value\n",
    "        \"\"\"\n",
    "        if type(index) is not int:\n",
    "            index = int(index, base=16)\n",
    "        if self.debug:\n",
    "            print(value)\n",
    "        self.data[index] = value\n",
    "    \n",
    "    def save_as_hex(self, fname='control_rom_try.hex'):\n",
    "        with open(fname, 'wb') as f:\n",
    "            for line in self.data:\n",
    "                f.write(bytes.fromhex(line))\n",
    "    \n",
    "# Example usage\n",
    "rom = ControlRom()\n",
    "rom.save_as_hex()"
   ]
  },
  {
   "cell_type": "code",
   "execution_count": 7,
   "metadata": {},
   "outputs": [],
   "source": [
    "rom = ControlRom() # sequencer\n",
    "op_rom = ControlRom(data_width=8) # controller"
   ]
  },
  {
   "cell_type": "markdown",
   "metadata": {},
   "source": [
    "## Programming the Sequencer"
   ]
  },
  {
   "cell_type": "markdown",
   "metadata": {},
   "source": [
    "### FETCH CYCLE"
   ]
  },
  {
   "cell_type": "code",
   "execution_count": 8,
   "metadata": {},
   "outputs": [
    {
     "name": "stdout",
     "output_type": "stream",
     "text": [
      "0000000000000018\n",
      "0000000000000021\n",
      "0000000000000920\n",
      "0000002000001200\n"
     ]
    }
   ],
   "source": [
    "rom[0x00] = get_control_or(df, 'PCw', 'MARe')\n",
    "rom[0x01] = get_control_or(df, 'MARo','PCe')\n",
    "rom[0x02] = get_control_or(df,'MARo', 'MDRe','MDRlr')\n",
    "rom[0x03] = get_control_or(df,'MDRo', 'MDRob','IRe')\n"
   ]
  },
  {
   "cell_type": "markdown",
   "metadata": {},
   "source": [
    "### EXECUTION CYCLE (OP code-> seq)"
   ]
  },
  {
   "cell_type": "code",
   "execution_count": 9,
   "metadata": {},
   "outputs": [
    {
     "name": "stdout",
     "output_type": "stream",
     "text": [
      "04\n",
      "0000000000000018\n",
      "0000000000000021\n",
      "0000000000000920\n",
      "0000000000001210\n",
      "0000000000000920\n",
      "0000000002001200\n"
     ]
    }
   ],
   "source": [
    "# LDA : OP = 0x3a\n",
    "op_rom[0x3a] = '04'\n",
    "rom[0x04] = get_control_or(df, 'PCw', 'MARe')\n",
    "rom[0x05] = get_control_or(df, 'MARo','PCe')\n",
    "rom[0x06] = get_control_or(df,'MARo', 'MDRe','MDRlr')\n",
    "# load MAR with the fetched address\n",
    "rom[0x07] = get_control_or(df,'MDRo', 'MDRob', 'MARe')\n",
    "rom[0x08] = get_control_or(df, 'MARo','MDRe','MDRlr')\n",
    "rom[0x09] = get_control_or(df,'MDRo', 'MDRob', 'Ae' )"
   ]
  },
  {
   "cell_type": "code",
   "execution_count": 10,
   "metadata": {},
   "outputs": [],
   "source": [
    "op_rom.save_as_hex(\"controller_programs/op_rom.hex\")\n",
    "rom.save_as_hex(\"controller_programs/control_rom.hex\")"
   ]
  },
  {
   "cell_type": "code",
   "execution_count": 11,
   "metadata": {},
   "outputs": [],
   "source": [
    "# This is too slow we need to write a compiler"
   ]
  },
  {
   "cell_type": "markdown",
   "metadata": {},
   "source": [
    "#"
   ]
  },
  {
   "cell_type": "code",
   "execution_count": 12,
   "metadata": {},
   "outputs": [],
   "source": [
    "def compile_file_and_save(fpath, con_save_path, op_save_path):\n",
    "    with open(fpath, 'r') as file:\n",
    "        data = file.read()\n",
    "        # turn it into lines\n",
    "        lines = data.split(\"\\n\")\n",
    "        # first lines are fetch cycles\n",
    "        rom = ControlRom(debug=False) # sequencer\n",
    "        op_rom = ControlRom(data_width=8, debug=False) # controller\n",
    "        for line in lines:\n",
    "            if len(line.strip())==0:\n",
    "                continue\n",
    "            ctype, rest = line.split(\"-\")\n",
    "            if ctype == 'CON':\n",
    "                rest1, rest2 = rest.split(\"=\")\n",
    "                addr = rest1.strip()\n",
    "                cons = rest2.strip().split(\" \")\n",
    "                rom[addr] = get_control_or(df, *cons)\n",
    "            if ctype == 'OP':\n",
    "                rest1, rest2 = rest.split(\"=\")\n",
    "                \n",
    "                addr = rest1.strip()\n",
    "                value = rest2.strip()\n",
    "\n",
    "                op_rom[addr] = value.split(\"x\")[1]\n",
    "        rom.save_as_hex(con_save_path)\n",
    "        op_rom.save_as_hex(op_save_path)"
   ]
  },
  {
   "cell_type": "code",
   "execution_count": 13,
   "metadata": {},
   "outputs": [],
   "source": [
    "compile_file_and_save(\"controller_programs/control_mini_abstraction.txt\", 'controller_programs/control_rom.hex', 'controller_programs/op_rom.hex')"
   ]
  },
  {
   "cell_type": "code",
   "execution_count": null,
   "metadata": {},
   "outputs": [],
   "source": []
  },
  {
   "cell_type": "code",
   "execution_count": null,
   "metadata": {},
   "outputs": [],
   "source": []
  }
 ],
 "metadata": {
  "kernelspec": {
   "display_name": ".venv",
   "language": "python",
   "name": "python3"
  },
  "language_info": {
   "codemirror_mode": {
    "name": "ipython",
    "version": 3
   },
   "file_extension": ".py",
   "mimetype": "text/x-python",
   "name": "python",
   "nbconvert_exporter": "python",
   "pygments_lexer": "ipython3",
   "version": "3.11.2"
  }
 },
 "nbformat": 4,
 "nbformat_minor": 2
}
