{
 "cells": [
  {
   "cell_type": "code",
   "execution_count": 12,
   "metadata": {},
   "outputs": [],
   "source": [
    "import pandas as pd"
   ]
  },
  {
   "cell_type": "code",
   "execution_count": 2,
   "metadata": {},
   "outputs": [],
   "source": [
    "f = open(\"program.asm\",'r')\n",
    "lines = f.read()"
   ]
  },
  {
   "cell_type": "code",
   "execution_count": 4,
   "metadata": {},
   "outputs": [
    {
     "data": {
      "text/plain": [
       "'start:\\n    mvi b, 0x00\\n    mvi c, 0x07\\n    \\nbit: \\n    in 0x02\\n    ani 0x80\\n    ora b\\n    rar\\n    MOV b, a\\n    mvi a, 0x73\\n\\ndelay:\\n    dcr a\\n    jnz delay\\n    dcr c\\n    jnz bit\\n    in 0x02\\n    ani 0x80\\n    ora b\\n    sta 0x2100\\n\\n\\n\\n'"
      ]
     },
     "execution_count": 4,
     "metadata": {},
     "output_type": "execute_result"
    }
   ],
   "source": [
    "lines"
   ]
  },
  {
   "cell_type": "code",
   "execution_count": null,
   "metadata": {},
   "outputs": [],
   "source": [
    "class BruhFoundException(Exception):\n",
    "    def __init__(self, line_no, line, message):\n",
    "        super().__init__(message)\n",
    "    "
   ]
  },
  {
   "cell_type": "code",
   "execution_count": 16,
   "metadata": {},
   "outputs": [],
   "source": [
    "program_lines = []\n",
    "label = None\n",
    "for i, line in enumerate(lines.split(\"\\n\")):\n",
    "    # check for label\n",
    "    if line.__contains__(\":\"):\n",
    "        label = line.split(\":\")[0].strip()\n",
    "        continue\n",
    "    \n",
    "    program_lines.append({\"label\":label,\"raw_line\":line.strip()})\n",
    "    label = None\n",
    "        "
   ]
  },
  {
   "cell_type": "code",
   "execution_count": 17,
   "metadata": {},
   "outputs": [
    {
     "data": {
      "text/html": [
       "<div>\n",
       "<style scoped>\n",
       "    .dataframe tbody tr th:only-of-type {\n",
       "        vertical-align: middle;\n",
       "    }\n",
       "\n",
       "    .dataframe tbody tr th {\n",
       "        vertical-align: top;\n",
       "    }\n",
       "\n",
       "    .dataframe thead th {\n",
       "        text-align: right;\n",
       "    }\n",
       "</style>\n",
       "<table border=\"1\" class=\"dataframe\">\n",
       "  <thead>\n",
       "    <tr style=\"text-align: right;\">\n",
       "      <th></th>\n",
       "      <th>label</th>\n",
       "      <th>raw_line</th>\n",
       "    </tr>\n",
       "  </thead>\n",
       "  <tbody>\n",
       "    <tr>\n",
       "      <th>0</th>\n",
       "      <td>start</td>\n",
       "      <td>mvi b, 0x00</td>\n",
       "    </tr>\n",
       "    <tr>\n",
       "      <th>1</th>\n",
       "      <td>None</td>\n",
       "      <td>mvi c, 0x07</td>\n",
       "    </tr>\n",
       "    <tr>\n",
       "      <th>2</th>\n",
       "      <td>None</td>\n",
       "      <td></td>\n",
       "    </tr>\n",
       "    <tr>\n",
       "      <th>3</th>\n",
       "      <td>bit</td>\n",
       "      <td>in 0x02</td>\n",
       "    </tr>\n",
       "    <tr>\n",
       "      <th>4</th>\n",
       "      <td>None</td>\n",
       "      <td>ani 0x80</td>\n",
       "    </tr>\n",
       "    <tr>\n",
       "      <th>5</th>\n",
       "      <td>None</td>\n",
       "      <td>ora b</td>\n",
       "    </tr>\n",
       "    <tr>\n",
       "      <th>6</th>\n",
       "      <td>None</td>\n",
       "      <td>rar</td>\n",
       "    </tr>\n",
       "    <tr>\n",
       "      <th>7</th>\n",
       "      <td>None</td>\n",
       "      <td>MOV b, a</td>\n",
       "    </tr>\n",
       "    <tr>\n",
       "      <th>8</th>\n",
       "      <td>None</td>\n",
       "      <td>mvi a, 0x73</td>\n",
       "    </tr>\n",
       "    <tr>\n",
       "      <th>9</th>\n",
       "      <td>None</td>\n",
       "      <td></td>\n",
       "    </tr>\n",
       "    <tr>\n",
       "      <th>10</th>\n",
       "      <td>delay</td>\n",
       "      <td>dcr a</td>\n",
       "    </tr>\n",
       "    <tr>\n",
       "      <th>11</th>\n",
       "      <td>None</td>\n",
       "      <td>jnz delay</td>\n",
       "    </tr>\n",
       "    <tr>\n",
       "      <th>12</th>\n",
       "      <td>None</td>\n",
       "      <td>dcr c</td>\n",
       "    </tr>\n",
       "    <tr>\n",
       "      <th>13</th>\n",
       "      <td>None</td>\n",
       "      <td>jnz bit</td>\n",
       "    </tr>\n",
       "    <tr>\n",
       "      <th>14</th>\n",
       "      <td>None</td>\n",
       "      <td>in 0x02</td>\n",
       "    </tr>\n",
       "    <tr>\n",
       "      <th>15</th>\n",
       "      <td>None</td>\n",
       "      <td>ani 0x80</td>\n",
       "    </tr>\n",
       "    <tr>\n",
       "      <th>16</th>\n",
       "      <td>None</td>\n",
       "      <td>ora b</td>\n",
       "    </tr>\n",
       "    <tr>\n",
       "      <th>17</th>\n",
       "      <td>None</td>\n",
       "      <td>sta 0x2100</td>\n",
       "    </tr>\n",
       "    <tr>\n",
       "      <th>18</th>\n",
       "      <td>None</td>\n",
       "      <td></td>\n",
       "    </tr>\n",
       "    <tr>\n",
       "      <th>19</th>\n",
       "      <td>None</td>\n",
       "      <td></td>\n",
       "    </tr>\n",
       "    <tr>\n",
       "      <th>20</th>\n",
       "      <td>None</td>\n",
       "      <td></td>\n",
       "    </tr>\n",
       "    <tr>\n",
       "      <th>21</th>\n",
       "      <td>None</td>\n",
       "      <td></td>\n",
       "    </tr>\n",
       "  </tbody>\n",
       "</table>\n",
       "</div>"
      ],
      "text/plain": [
       "    label     raw_line\n",
       "0   start  mvi b, 0x00\n",
       "1    None  mvi c, 0x07\n",
       "2    None             \n",
       "3     bit      in 0x02\n",
       "4    None     ani 0x80\n",
       "5    None        ora b\n",
       "6    None          rar\n",
       "7    None     MOV b, a\n",
       "8    None  mvi a, 0x73\n",
       "9    None             \n",
       "10  delay        dcr a\n",
       "11   None    jnz delay\n",
       "12   None        dcr c\n",
       "13   None      jnz bit\n",
       "14   None      in 0x02\n",
       "15   None     ani 0x80\n",
       "16   None        ora b\n",
       "17   None   sta 0x2100\n",
       "18   None             \n",
       "19   None             \n",
       "20   None             \n",
       "21   None             "
      ]
     },
     "execution_count": 17,
     "metadata": {},
     "output_type": "execute_result"
    }
   ],
   "source": [
    "pd.DataFrame(program_lines)"
   ]
  },
  {
   "cell_type": "code",
   "execution_count": 8,
   "metadata": {},
   "outputs": [
    {
     "name": "stdout",
     "output_type": "stream",
     "text": [
      "start:\n",
      "    mvi b, 0x00\n",
      "    mvi c, 0x07\n",
      "    \n",
      "bit: \n",
      "    in 0x02\n",
      "    ani 0x80\n",
      "    ora b\n",
      "    rar\n",
      "    MOV b, a\n",
      "    mvi a, 0x73\n",
      "\n",
      "delay:\n",
      "    dcr a\n",
      "    jnz delay\n",
      "    dcr c\n",
      "    jnz bit\n",
      "    in 0x02\n",
      "    ani 0x80\n",
      "    ora b\n",
      "    sta 0x2100\n",
      "\n",
      "\n",
      "\n",
      "\n"
     ]
    }
   ],
   "source": [
    "for line in lines.split(\"\\n\"):\n",
    "    print(line)"
   ]
  },
  {
   "cell_type": "markdown",
   "metadata": {},
   "source": [
    "# construct symbol table"
   ]
  },
  {
   "cell_type": "code",
   "execution_count": 18,
   "metadata": {},
   "outputs": [],
   "source": [
    "symbol_table_path = \"/home/raufie/work/study/computer_engineering/sap2/instruction_set_map.txt\""
   ]
  },
  {
   "cell_type": "code",
   "execution_count": 19,
   "metadata": {},
   "outputs": [],
   "source": [
    "f = open(symbol_table_path,'r')\n",
    "symbol_table_file = f.read()"
   ]
  },
  {
   "cell_type": "code",
   "execution_count": 43,
   "metadata": {},
   "outputs": [
    {
     "name": "stdout",
     "output_type": "stream",
     "text": [
      "lda0xHHHH 0x3a\n",
      "mova,b 0x78\n",
      "mova,c 0x79\n",
      "movb,a 0x47\n",
      "movb,c 0x41\n",
      "movc,a 0x4f\n",
      "movc,b 0x48\n",
      "mvia,0xHH 0x3e\n",
      "mvib,0xHH 0x06\n",
      "mvic,0xHH 0x0e\n",
      "sta0xHHHH 0x32\n",
      "addb 0x80\n",
      "addc 0x81\n",
      "anab 0xa0\n",
      "anac 0xa1\n",
      "ani0xHH 0xe6\n",
      "cma 0x2f\n",
      "dcra 0x3d\n",
      "dcrb 0x05\n",
      "dcrc 0x0d\n",
      "inra 0x3c\n",
      "inrb 0x04\n",
      "inrc 0x0c\n",
      "orab 0xb0\n",
      "orac 0xb1\n",
      "ori0xHH 0xf6\n",
      "subb 0x90\n",
      "subc 0x91\n",
      "xrab 0xa8\n",
      "xrac 0xa9\n",
      "xri0xHH 0xee\n",
      "ral 0x17\n",
      "rar 0x1f\n",
      "jmp0xHHHH 0xc3\n",
      "jm0xHHHH 0xfa\n",
      "jnz0xHHHH 0xc2\n",
      "jz0xHHHH 0xca\n",
      "hlt 0x76\n",
      "call0xHHHH 0xcd\n",
      "ret 0xc9\n",
      "in0xHH 0xdb\n",
      "nop 0x00\n",
      "out0x03 0xd3\n",
      "out0x04 0xd4\n"
     ]
    }
   ],
   "source": [
    "symbol_table = {}\n",
    "for line in symbol_table_file.split('\\n'):\n",
    "    # print(line)\n",
    "    mnemonic, op_code = line.split('=')\n",
    "    op_code, count = op_code.strip().split(' ')\n",
    "    count = int(count.strip()[1])\n",
    "    # clean mnemonic\n",
    "    mnemonic_arr = mnemonic.split(\" \")\n",
    "    mnemonic_arr.remove('')\n",
    "    mnemonic_key = \"\".join(mnemonic_arr)\n",
    "    print(\"\".join(mnemonic_arr), end=' ')\n",
    "    print(op_code)\n",
    "    symbol_table[mnemonic_key] = {\n",
    "        'op_code' : op_code,\n",
    "        'count' : count\n",
    "    }\n",
    "    # break/"
   ]
  },
  {
   "cell_type": "code",
   "execution_count": 44,
   "metadata": {},
   "outputs": [
    {
     "data": {
      "text/plain": [
       "{'lda0xHHHH': {'op_code': '0x3a', 'count': 3},\n",
       " 'mova,b': {'op_code': '0x78', 'count': 1},\n",
       " 'mova,c': {'op_code': '0x79', 'count': 1},\n",
       " 'movb,a': {'op_code': '0x47', 'count': 1},\n",
       " 'movb,c': {'op_code': '0x41', 'count': 1},\n",
       " 'movc,a': {'op_code': '0x4f', 'count': 1},\n",
       " 'movc,b': {'op_code': '0x48', 'count': 1},\n",
       " 'mvia,0xHH': {'op_code': '0x3e', 'count': 2},\n",
       " 'mvib,0xHH': {'op_code': '0x06', 'count': 2},\n",
       " 'mvic,0xHH': {'op_code': '0x0e', 'count': 2},\n",
       " 'sta0xHHHH': {'op_code': '0x32', 'count': 3},\n",
       " 'addb': {'op_code': '0x80', 'count': 1},\n",
       " 'addc': {'op_code': '0x81', 'count': 1},\n",
       " 'anab': {'op_code': '0xa0', 'count': 1},\n",
       " 'anac': {'op_code': '0xa1', 'count': 1},\n",
       " 'ani0xHH': {'op_code': '0xe6', 'count': 2},\n",
       " 'cma': {'op_code': '0x2f', 'count': 1},\n",
       " 'dcra': {'op_code': '0x3d', 'count': 1},\n",
       " 'dcrb': {'op_code': '0x05', 'count': 1},\n",
       " 'dcrc': {'op_code': '0x0d', 'count': 1},\n",
       " 'inra': {'op_code': '0x3c', 'count': 1},\n",
       " 'inrb': {'op_code': '0x04', 'count': 1},\n",
       " 'inrc': {'op_code': '0x0c', 'count': 1},\n",
       " 'orab': {'op_code': '0xb0', 'count': 1},\n",
       " 'orac': {'op_code': '0xb1', 'count': 1},\n",
       " 'ori0xHH': {'op_code': '0xf6', 'count': 2},\n",
       " 'subb': {'op_code': '0x90', 'count': 1},\n",
       " 'subc': {'op_code': '0x91', 'count': 1},\n",
       " 'xrab': {'op_code': '0xa8', 'count': 1},\n",
       " 'xrac': {'op_code': '0xa9', 'count': 1},\n",
       " 'xri0xHH': {'op_code': '0xee', 'count': 2},\n",
       " 'ral': {'op_code': '0x17', 'count': 1},\n",
       " 'rar': {'op_code': '0x1f', 'count': 1},\n",
       " 'jmp0xHHHH': {'op_code': '0xc3', 'count': 3},\n",
       " 'jm0xHHHH': {'op_code': '0xfa', 'count': 3},\n",
       " 'jnz0xHHHH': {'op_code': '0xc2', 'count': 3},\n",
       " 'jz0xHHHH': {'op_code': '0xca', 'count': 3},\n",
       " 'hlt': {'op_code': '0x76', 'count': 1},\n",
       " 'call0xHHHH': {'op_code': '0xcd', 'count': 3},\n",
       " 'ret': {'op_code': '0xc9', 'count': 1},\n",
       " 'in0xHH': {'op_code': '0xdb', 'count': 2},\n",
       " 'nop': {'op_code': '0x00', 'count': 1},\n",
       " 'out0x03': {'op_code': '0xd3', 'count': 1},\n",
       " 'out0x04': {'op_code': '0xd4', 'count': 1}}"
      ]
     },
     "execution_count": 44,
     "metadata": {},
     "output_type": "execute_result"
    }
   ],
   "source": [
    "symbol_table"
   ]
  },
  {
   "cell_type": "code",
   "execution_count": null,
   "metadata": {},
   "outputs": [],
   "source": []
  }
 ],
 "metadata": {
  "kernelspec": {
   "display_name": ".venv",
   "language": "python",
   "name": "python3"
  },
  "language_info": {
   "codemirror_mode": {
    "name": "ipython",
    "version": 3
   },
   "file_extension": ".py",
   "mimetype": "text/x-python",
   "name": "python",
   "nbconvert_exporter": "python",
   "pygments_lexer": "ipython3",
   "version": "3.11.2"
  }
 },
 "nbformat": 4,
 "nbformat_minor": 2
}
