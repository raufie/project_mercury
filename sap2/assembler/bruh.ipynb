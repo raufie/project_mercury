{
 "cells": [
  {
   "cell_type": "code",
   "execution_count": 2,
   "metadata": {},
   "outputs": [],
   "source": [
    "import pandas as pd"
   ]
  },
  {
   "cell_type": "code",
   "execution_count": 3,
   "metadata": {},
   "outputs": [],
   "source": [
    "f = open(\"program.asm\",'r')\n",
    "lines = f.read()"
   ]
  },
  {
   "cell_type": "code",
   "execution_count": 4,
   "metadata": {},
   "outputs": [
    {
     "data": {
      "text/plain": [
       "'start:\\n    mvi b, 0x00\\n    mvi c, 0x07\\n    \\nbit: \\n    in 0x02\\n    ani 0x80\\n    ora b\\n    rar\\n    MOV b, a\\n    mvi a, 0x73\\n\\ndelay:\\n    dcr a\\n    jnz delay\\n    dcr c\\n    jnz bit\\n    in 0x02\\n    ani 0x80\\n    ora b\\n    sta 0x2100\\n\\n\\n\\n'"
      ]
     },
     "execution_count": 4,
     "metadata": {},
     "output_type": "execute_result"
    }
   ],
   "source": [
    "lines"
   ]
  },
  {
   "cell_type": "code",
   "execution_count": 5,
   "metadata": {},
   "outputs": [],
   "source": [
    "class BruhFoundException(Exception):\n",
    "    def __init__(self, line_no, line, message):\n",
    "        super().__init__(message)\n",
    "    "
   ]
  },
  {
   "cell_type": "code",
   "execution_count": 6,
   "metadata": {},
   "outputs": [],
   "source": [
    "program_lines = []\n",
    "label = None\n",
    "for i, line in enumerate(lines.split(\"\\n\")):\n",
    "    # check for label\n",
    "    if line.__contains__(\":\"):\n",
    "        label = line.split(\":\")[0].strip()\n",
    "        continue\n",
    "    \n",
    "    program_lines.append({\"label\":label,\"raw_line\":line.strip()})\n",
    "    label = None\n",
    "        "
   ]
  },
  {
   "cell_type": "code",
   "execution_count": 7,
   "metadata": {},
   "outputs": [
    {
     "data": {
      "text/html": [
       "<div>\n",
       "<style scoped>\n",
       "    .dataframe tbody tr th:only-of-type {\n",
       "        vertical-align: middle;\n",
       "    }\n",
       "\n",
       "    .dataframe tbody tr th {\n",
       "        vertical-align: top;\n",
       "    }\n",
       "\n",
       "    .dataframe thead th {\n",
       "        text-align: right;\n",
       "    }\n",
       "</style>\n",
       "<table border=\"1\" class=\"dataframe\">\n",
       "  <thead>\n",
       "    <tr style=\"text-align: right;\">\n",
       "      <th></th>\n",
       "      <th>label</th>\n",
       "      <th>raw_line</th>\n",
       "    </tr>\n",
       "  </thead>\n",
       "  <tbody>\n",
       "    <tr>\n",
       "      <th>0</th>\n",
       "      <td>start</td>\n",
       "      <td>mvi b, 0x00</td>\n",
       "    </tr>\n",
       "    <tr>\n",
       "      <th>1</th>\n",
       "      <td>None</td>\n",
       "      <td>mvi c, 0x07</td>\n",
       "    </tr>\n",
       "    <tr>\n",
       "      <th>2</th>\n",
       "      <td>None</td>\n",
       "      <td></td>\n",
       "    </tr>\n",
       "    <tr>\n",
       "      <th>3</th>\n",
       "      <td>bit</td>\n",
       "      <td>in 0x02</td>\n",
       "    </tr>\n",
       "    <tr>\n",
       "      <th>4</th>\n",
       "      <td>None</td>\n",
       "      <td>ani 0x80</td>\n",
       "    </tr>\n",
       "    <tr>\n",
       "      <th>5</th>\n",
       "      <td>None</td>\n",
       "      <td>ora b</td>\n",
       "    </tr>\n",
       "    <tr>\n",
       "      <th>6</th>\n",
       "      <td>None</td>\n",
       "      <td>rar</td>\n",
       "    </tr>\n",
       "    <tr>\n",
       "      <th>7</th>\n",
       "      <td>None</td>\n",
       "      <td>MOV b, a</td>\n",
       "    </tr>\n",
       "    <tr>\n",
       "      <th>8</th>\n",
       "      <td>None</td>\n",
       "      <td>mvi a, 0x73</td>\n",
       "    </tr>\n",
       "    <tr>\n",
       "      <th>9</th>\n",
       "      <td>None</td>\n",
       "      <td></td>\n",
       "    </tr>\n",
       "    <tr>\n",
       "      <th>10</th>\n",
       "      <td>delay</td>\n",
       "      <td>dcr a</td>\n",
       "    </tr>\n",
       "    <tr>\n",
       "      <th>11</th>\n",
       "      <td>None</td>\n",
       "      <td>jnz delay</td>\n",
       "    </tr>\n",
       "    <tr>\n",
       "      <th>12</th>\n",
       "      <td>None</td>\n",
       "      <td>dcr c</td>\n",
       "    </tr>\n",
       "    <tr>\n",
       "      <th>13</th>\n",
       "      <td>None</td>\n",
       "      <td>jnz bit</td>\n",
       "    </tr>\n",
       "    <tr>\n",
       "      <th>14</th>\n",
       "      <td>None</td>\n",
       "      <td>in 0x02</td>\n",
       "    </tr>\n",
       "    <tr>\n",
       "      <th>15</th>\n",
       "      <td>None</td>\n",
       "      <td>ani 0x80</td>\n",
       "    </tr>\n",
       "    <tr>\n",
       "      <th>16</th>\n",
       "      <td>None</td>\n",
       "      <td>ora b</td>\n",
       "    </tr>\n",
       "    <tr>\n",
       "      <th>17</th>\n",
       "      <td>None</td>\n",
       "      <td>sta 0x2100</td>\n",
       "    </tr>\n",
       "    <tr>\n",
       "      <th>18</th>\n",
       "      <td>None</td>\n",
       "      <td></td>\n",
       "    </tr>\n",
       "    <tr>\n",
       "      <th>19</th>\n",
       "      <td>None</td>\n",
       "      <td></td>\n",
       "    </tr>\n",
       "    <tr>\n",
       "      <th>20</th>\n",
       "      <td>None</td>\n",
       "      <td></td>\n",
       "    </tr>\n",
       "    <tr>\n",
       "      <th>21</th>\n",
       "      <td>None</td>\n",
       "      <td></td>\n",
       "    </tr>\n",
       "  </tbody>\n",
       "</table>\n",
       "</div>"
      ],
      "text/plain": [
       "    label     raw_line\n",
       "0   start  mvi b, 0x00\n",
       "1    None  mvi c, 0x07\n",
       "2    None             \n",
       "3     bit      in 0x02\n",
       "4    None     ani 0x80\n",
       "5    None        ora b\n",
       "6    None          rar\n",
       "7    None     MOV b, a\n",
       "8    None  mvi a, 0x73\n",
       "9    None             \n",
       "10  delay        dcr a\n",
       "11   None    jnz delay\n",
       "12   None        dcr c\n",
       "13   None      jnz bit\n",
       "14   None      in 0x02\n",
       "15   None     ani 0x80\n",
       "16   None        ora b\n",
       "17   None   sta 0x2100\n",
       "18   None             \n",
       "19   None             \n",
       "20   None             \n",
       "21   None             "
      ]
     },
     "execution_count": 7,
     "metadata": {},
     "output_type": "execute_result"
    }
   ],
   "source": [
    "pd.DataFrame(program_lines)"
   ]
  },
  {
   "cell_type": "code",
   "execution_count": 8,
   "metadata": {},
   "outputs": [
    {
     "name": "stdout",
     "output_type": "stream",
     "text": [
      "start:\n",
      "    mvi b, 0x00\n",
      "    mvi c, 0x07\n",
      "    \n",
      "bit: \n",
      "    in 0x02\n",
      "    ani 0x80\n",
      "    ora b\n",
      "    rar\n",
      "    MOV b, a\n",
      "    mvi a, 0x73\n",
      "\n",
      "delay:\n",
      "    dcr a\n",
      "    jnz delay\n",
      "    dcr c\n",
      "    jnz bit\n",
      "    in 0x02\n",
      "    ani 0x80\n",
      "    ora b\n",
      "    sta 0x2100\n",
      "\n",
      "\n",
      "\n",
      "\n"
     ]
    }
   ],
   "source": [
    "for line in lines.split(\"\\n\"):\n",
    "    print(line)"
   ]
  },
  {
   "cell_type": "markdown",
   "metadata": {},
   "source": [
    "# construct symbol table"
   ]
  },
  {
   "cell_type": "code",
   "execution_count": 9,
   "metadata": {},
   "outputs": [],
   "source": [
    "symbol_table_path = \"/home/raufie/work/study/computer_engineering/sap2/instruction_set_map.txt\""
   ]
  },
  {
   "cell_type": "markdown",
   "metadata": {},
   "source": [
    "# Allocate addresses"
   ]
  },
  {
   "cell_type": "code",
   "execution_count": 53,
   "metadata": {},
   "outputs": [],
   "source": [
    "line = program_lines[0]['raw_line']"
   ]
  },
  {
   "cell_type": "code",
   "execution_count": 107,
   "metadata": {},
   "outputs": [],
   "source": [
    "line = 'mvib, 235'"
   ]
  },
  {
   "cell_type": "code",
   "execution_count": 133,
   "metadata": {},
   "outputs": [],
   "source": [
    "def parse_arg_as_hex(arg:str, arg_len:str):\n",
    "    length = len(arg_len.split('x')[1])\n",
    "    if arg.__contains__(\"x\"):\n",
    "        return '0x'+arg.split(\"x\")[1].zfill(length)\n",
    "    elif arg.__contains__(\"b\"):\n",
    "        n_str = arg.split(\"b\")[1]\n",
    "        return '0x'+str(hex(int(n_str, base=2)))[2:].zfill(length)\n",
    "    else:\n",
    "        return '0x'+str(hex(int(arg, base=10)))[2:].zfill(length)  "
   ]
  },
  {
   "cell_type": "code",
   "execution_count": 154,
   "metadata": {},
   "outputs": [],
   "source": [
    "from assembler import Assembler"
   ]
  },
  {
   "cell_type": "code",
   "execution_count": 155,
   "metadata": {},
   "outputs": [],
   "source": [
    "assembler = Assembler(symbol_table_path)"
   ]
  },
  {
   "cell_type": "code",
   "execution_count": 158,
   "metadata": {},
   "outputs": [],
   "source": [
    "symbol_table = assembler.symbol_table"
   ]
  },
  {
   "cell_type": "code",
   "execution_count": 208,
   "metadata": {},
   "outputs": [],
   "source": [
    "def construct_namespace(program_lines):\n",
    "    namespace = {}\n",
    "    count = 0\n",
    "    for line in program_lines:\n",
    "        label = line['label']\n",
    "        raw_line = line['raw_line'].lower()\n",
    "        if len(raw_line.strip())==0:\n",
    "            continue\n",
    "\n",
    "        \n",
    "        comps = raw_line.split(\" \") \n",
    "        agg = \"\"\n",
    "        is_op_found = False\n",
    "        for i, component in enumerate(comps):\n",
    "            agg+=component\n",
    "            if agg in symbol_table:\n",
    "                if label is not None:\n",
    "                    namespace[label] = parse_arg_as_hex(str(count),'0xHHHH')\n",
    "                count+= symbol_table[agg]['count']\n",
    "                is_op_found = True            \n",
    "                \n",
    "\n",
    "        if not is_op_found:\n",
    "            print(comps)\n",
    "            raise Exception(\"SyntaxError: Can't find the op\") \n",
    "        \n",
    "    return namespace\n",
    "            "
   ]
  },
  {
   "cell_type": "code",
   "execution_count": 215,
   "metadata": {},
   "outputs": [],
   "source": [
    "namespace = construct_namespace(program_lines)"
   ]
  },
  {
   "cell_type": "code",
   "execution_count": 247,
   "metadata": {},
   "outputs": [],
   "source": [
    "def translate_line(line_no, line, symbol_table, namespace):\n",
    "    comps = line.split(\" \") \n",
    "    agg = \"\"\n",
    "    for i, component in enumerate(comps):\n",
    "        agg+=component\n",
    "        if agg in symbol_table:\n",
    "            arg = None\n",
    "            if symbol_table[agg]['arg'] is not None:\n",
    "                if len(comps) < i+2:\n",
    "                    raise Exception(f\"Line-{line_no}: {symbol_table[agg]['base']} expected an Argument type {symbol_table[agg]['arg']}\\nPlease use the template {symbol_table[agg]['full_mnemonic']}\")    \n",
    "                arg = comps[i+1]\n",
    "                if arg in namespace:\n",
    "                    arg = namespace[arg]\n",
    "                else:\n",
    "                    arg = parse_arg_as_hex(arg, symbol_table[agg]['arg'])\n",
    "                if len(arg)!=len(symbol_table[agg]['arg']):\n",
    "                    raise Exception(f\"Line-{line_no}: Length of argument in hex is {len(arg)-2}, but it should be {len(symbol_table[agg]['arg'])-2}, please make sure its not too large\")\n",
    "            return symbol_table[agg], arg\n",
    "    raise Exception(f\"Line-{line_no}: SyntaxError: Can't find the op\\n {line}\")"
   ]
  },
  {
   "cell_type": "code",
   "execution_count": null,
   "metadata": {},
   "outputs": [],
   "source": [
    "for i, program_line in enumerate(program_lines):\n",
    "    if len(program_line['raw_line'].strip()) == 0:\n",
    "        continue\n",
    "    translate_line(i+1,program_line['raw_line'].lower(), symbol_table, namespace)\n"
   ]
  },
  {
   "cell_type": "code",
   "execution_count": 234,
   "metadata": {},
   "outputs": [
    {
     "data": {
      "text/plain": [
       "({'op_code': '0xd3',\n",
       "  'count': 1,\n",
       "  'key': 'out0x03',\n",
       "  'arg': None,\n",
       "  'base': 'out',\n",
       "  'full_mnemonic': 'out 0x03 '},\n",
       " None)"
      ]
     },
     "execution_count": 234,
     "metadata": {},
     "output_type": "execute_result"
    }
   ],
   "source": [
    "translate_line('out 0x03')"
   ]
  },
  {
   "cell_type": "code",
   "execution_count": 124,
   "metadata": {},
   "outputs": [
    {
     "name": "stdout",
     "output_type": "stream",
     "text": [
      "mvib,235 "
     ]
    }
   ],
   "source": [
    "mnemonic_arr = line.split(\" \")\n",
    "try:\n",
    "    mnemonic_arr.remove('')\n",
    "except:\n",
    "    pass\n",
    "mnemonic_key = \"\".join(mnemonic_arr)\n",
    "print(\"\".join(mnemonic_arr), end=' ')\n"
   ]
  },
  {
   "cell_type": "markdown",
   "metadata": {},
   "source": [
    "# get the correct op code"
   ]
  },
  {
   "cell_type": "code",
   "execution_count": 17,
   "metadata": {},
   "outputs": [
    {
     "ename": "KeyError",
     "evalue": "'lda0x9234'",
     "output_type": "error",
     "traceback": [
      "\u001b[31m---------------------------------------------------------------------------\u001b[39m",
      "\u001b[31mKeyError\u001b[39m                                  Traceback (most recent call last)",
      "\u001b[36mCell\u001b[39m\u001b[36m \u001b[39m\u001b[32mIn[17]\u001b[39m\u001b[32m, line 1\u001b[39m\n\u001b[32m----> \u001b[39m\u001b[32m1\u001b[39m \u001b[43msymbol_table\u001b[49m\u001b[43m[\u001b[49m\u001b[33;43m'\u001b[39;49m\u001b[33;43mlda0x9234\u001b[39;49m\u001b[33;43m'\u001b[39;49m\u001b[43m]\u001b[49m\n",
      "\u001b[31mKeyError\u001b[39m: 'lda0x9234'"
     ]
    }
   ],
   "source": [
    "symbol_table['lda0x9234']"
   ]
  },
  {
   "cell_type": "markdown",
   "metadata": {},
   "source": [
    "# Testing"
   ]
  },
  {
   "cell_type": "code",
   "execution_count": 1,
   "metadata": {},
   "outputs": [],
   "source": [
    "from assembler import Assembler"
   ]
  },
  {
   "cell_type": "code",
   "execution_count": 2,
   "metadata": {},
   "outputs": [],
   "source": [
    "assembler = Assembler(\"/home/raufie/work/study/computer_engineering/sap2/instruction_set_map.txt\")"
   ]
  },
  {
   "cell_type": "code",
   "execution_count": 3,
   "metadata": {},
   "outputs": [
    {
     "name": "stdout",
     "output_type": "stream",
     "text": [
      "06000e07db02e680b01f473e733dc20d000dc20400db02e680b0320021"
     ]
    }
   ],
   "source": [
    "assembler.assemble(\"/home/raufie/work/study/computer_engineering/sap2/assembler/program.asm\")"
   ]
  },
  {
   "cell_type": "code",
   "execution_count": 4,
   "metadata": {},
   "outputs": [
    {
     "ename": "NameError",
     "evalue": "name 'translated' is not defined",
     "output_type": "error",
     "traceback": [
      "\u001b[31m---------------------------------------------------------------------------\u001b[39m",
      "\u001b[31mNameError\u001b[39m                                 Traceback (most recent call last)",
      "\u001b[36mCell\u001b[39m\u001b[36m \u001b[39m\u001b[32mIn[4]\u001b[39m\u001b[32m, line 2\u001b[39m\n\u001b[32m      1\u001b[39m f = \u001b[38;5;28mopen\u001b[39m(\u001b[33m'\u001b[39m\u001b[33mbruh.hex\u001b[39m\u001b[33m'\u001b[39m, \u001b[33m'\u001b[39m\u001b[33mwb\u001b[39m\u001b[33m'\u001b[39m)\n\u001b[32m----> \u001b[39m\u001b[32m2\u001b[39m \u001b[38;5;28;01mfor\u001b[39;00m item, arg \u001b[38;5;129;01min\u001b[39;00m \u001b[43mtranslated\u001b[49m:\n\u001b[32m      3\u001b[39m     f.write(\u001b[38;5;28mbytes\u001b[39m.fromhex(item[\u001b[33m'\u001b[39m\u001b[33mop_code\u001b[39m\u001b[33m'\u001b[39m][\u001b[32m2\u001b[39m:]))\n\u001b[32m      4\u001b[39m     \u001b[38;5;28;01mif\u001b[39;00m arg \u001b[38;5;129;01mis\u001b[39;00m \u001b[38;5;129;01mnot\u001b[39;00m \u001b[38;5;28;01mNone\u001b[39;00m:\n",
      "\u001b[31mNameError\u001b[39m: name 'translated' is not defined"
     ]
    }
   ],
   "source": [
    "f = open('bruh.hex', 'wb')\n",
    "for item, arg in translated:\n",
    "    f.write(bytes.fromhex(item['op_code'][2:]))\n",
    "    if arg is not None:\n",
    "        f.write(bytes.fromhex(arg[2:]))\n",
    "f.close()"
   ]
  },
  {
   "cell_type": "code",
   "execution_count": null,
   "metadata": {},
   "outputs": [
    {
     "data": {
      "text/plain": [
       "b'\\xff'"
      ]
     },
     "execution_count": 17,
     "metadata": {},
     "output_type": "execute_result"
    }
   ],
   "source": [
    "for "
   ]
  },
  {
   "cell_type": "code",
   "execution_count": null,
   "metadata": {},
   "outputs": [],
   "source": []
  }
 ],
 "metadata": {
  "kernelspec": {
   "display_name": ".venv",
   "language": "python",
   "name": "python3"
  },
  "language_info": {
   "codemirror_mode": {
    "name": "ipython",
    "version": 3
   },
   "file_extension": ".py",
   "mimetype": "text/x-python",
   "name": "python",
   "nbconvert_exporter": "python",
   "pygments_lexer": "ipython3",
   "version": "3.11.2"
  }
 },
 "nbformat": 4,
 "nbformat_minor": 2
}
